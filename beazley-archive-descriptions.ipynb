{
 "cells": [
  {
   "cell_type": "code",
   "execution_count": null,
   "metadata": {
    "execution": {
     "iopub.execute_input": "2020-04-16T20:07:15.169Z",
     "iopub.status.busy": "2020-04-16T20:07:15.173Z",
     "iopub.status.idle": "2020-04-16T20:07:15.666Z"
    },
    "jupyter": {
     "outputs_hidden": false,
     "source_hidden": false
    },
    "nteract": {
     "transient": {
      "deleting": false
     }
    },
    "outputExpanded": false
   },
   "outputs": [],
   "source": [
    "val url = \"http://shot.holycross.edu/ada-vases.tsv\""
   ]
  },
  {
   "cell_type": "code",
   "execution_count": null,
   "metadata": {
    "execution": {
     "iopub.execute_input": "2020-04-16T20:10:08.529Z",
     "iopub.status.busy": "2020-04-16T20:10:08.546Z",
     "iopub.status.idle": "2020-04-16T20:10:51.826Z"
    },
    "jupyter": {
     "outputs_hidden": false,
     "source_hidden": false
    },
    "nteract": {
     "transient": {
      "deleting": false
     }
    },
    "outputExpanded": false
   },
   "outputs": [],
   "source": [
    "import scala.io.Source\n",
    "val lines = Source.fromURL(url).getLines.toVector\n",
    "lines.size"
   ]
  },
  {
   "cell_type": "code",
   "execution_count": null,
   "metadata": {
    "execution": {
     "iopub.execute_input": "2020-04-16T20:10:57.819Z",
     "iopub.status.busy": "2020-04-16T20:10:57.825Z",
     "iopub.status.idle": "2020-04-16T20:11:02.135Z"
    },
    "jupyter": {
     "outputs_hidden": false,
     "source_hidden": false
    },
    "nteract": {
     "transient": {
      "deleting": false
     }
    },
    "outputExpanded": false
   },
   "outputs": [],
   "source": [
    "val byColumns = lines.map(ln => ln.split(\"\\t\").toVector)\n",
    "byColumns.size"
   ]
  },
  {
   "cell_type": "code",
   "execution_count": null,
   "metadata": {
    "execution": {
     "iopub.execute_input": "2020-04-16T20:14:17.725Z",
     "iopub.status.busy": "2020-04-16T20:14:17.732Z",
     "iopub.status.idle": "2020-04-16T20:14:18.502Z"
    },
    "jupyter": {
     "outputs_hidden": false,
     "source_hidden": false
    },
    "nteract": {
     "transient": {
      "deleting": false
     }
    },
    "outputExpanded": false
   },
   "outputs": [],
   "source": [
    "val descriptions = byColumns.filter(row => row.size == 23).map( v => v(10))\n"
   ]
  },
  {
   "cell_type": "code",
   "execution_count": null,
   "metadata": {},
   "outputs": [],
   "source": [
    "val tidier = descriptions.map(t => t.toLowerCase).map(descr => descr.replaceAll(\"[^a-z ]\", \"\"))\n",
    "\n",
    "                                                      \n",
    "                                                      "
   ]
  }
 ],
 "metadata": {
  "kernel_info": {
   "name": "scala"
  },
  "kernelspec": {
   "display_name": "Scala (2.12)",
   "language": "scala",
   "name": "scala212"
  },
  "language_info": {
   "codemirror_mode": "text/x-scala",
   "file_extension": ".scala",
   "mimetype": "text/x-scala",
   "name": "scala",
   "nbconvert_exporter": "script",
   "version": "2.12.10"
  },
  "nteract": {
   "version": "0.22.4"
  }
 },
 "nbformat": 4,
 "nbformat_minor": 1
}
