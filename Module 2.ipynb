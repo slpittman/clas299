{
  "cells": [
    {
      "cell_type": "code",
      "source": [
        "import scala.io.Source\n",
        "val collectionTxt= \"https://raw.githubusercontent.com/RyWynn1220/clas299/master/Group-vase-collection.txt\""
      ],
      "outputs": [
        {
          "output_type": "execute_result",
          "execution_count": 2,
          "data": {
            "text/plain": [
              "\u001b[32mimport \u001b[39m\u001b[36mscala.io.Source\n",
              "\u001b[39m\n",
              "\u001b[36mcollectionTxt\u001b[39m: \u001b[32mString\u001b[39m = \u001b[32m\"https://raw.githubusercontent.com/RyWynn1220/clas299/master/Group-vase-collection.txt\"\u001b[39m"
            ]
          },
          "metadata": {}
        }
      ],
      "execution_count": 2,
      "metadata": {
        "trusted": true
      }
    },
    {
      "cell_type": "code",
      "source": [
        "val lines = Source.fromURL(collectionTxt).getLines.toVector"
      ],
      "outputs": [
        {
          "output_type": "execute_result",
          "execution_count": 3,
          "data": {
            "text/plain": [
              "\u001b[36mlines\u001b[39m: \u001b[32mVector\u001b[39m[\u001b[32mString\u001b[39m] = \u001b[33mVector\u001b[39m(\n",
              "  \u001b[32m\"painter#beazely#museumId#shape#findSpot#subject#pleiades\"\u001b[39m,\n",
              "  \u001b[32m\"Euthymides#1#Munich 2307#Amphroae(typeA)#Vulci#A. Hector arming B. komos#413393\"\u001b[39m,\n",
              "  \u001b[32m\"Euthymides#2#Munich 2308#Amphroae(typeA)#Vulci#A. Thorykion arming B. athletes and trainer#413393\"\u001b[39m,\n",
              "  \u001b[32m\"Euthymides#3#Louvre G 44#Amphroae(typeA)#Vulci#A. Warrior mounting chariot B. woman, youth and man#413393\"\u001b[39m,\n",
              "  \u001b[32m\"Euthymides#4#Munich 2309#Amphroae(typeA)#Vulci#Unavliable#413393\"\u001b[39m,\n",
              "  \u001b[32m\"Euthymides#5#Paestum#Amphroae(typeA) fr.#Paestum#Komos#442733\"\u001b[39m,\n",
              "  \u001b[32m\"Euthymides#6#Syracuse 49305#Neck-Amphroae frr.#Monte Casale#A. Dinoysus(?) B. Hermes#Unknown\"\u001b[39m,\n",
              "  \u001b[32m\"Euthymides#7#Lourve C 11072#Neck-Amphroae#unknown#A. satyr B. satyr#Unknown\"\u001b[39m,\n",
              "  \u001b[32m\"Euthymides#8#Warsaw 142332#Neck-Amphroae#Unknown#A. youth pouring wine from a pointed amphora B. satyr#Unknown\"\u001b[39m,\n",
              "  \u001b[32m\"Euthymides#9#Lourve G 31#Pelike fr.#Unknown#A. two acontists B. jumper and discus-thrower#Unknown\"\u001b[39m,\n",
              "  \u001b[32m\"Euthymides#10#Serra Orlando#Volute-krater#Serra Orlando#A. Herakles and the Amazons B. symposion#462372\"\u001b[39m,\n",
              "  \u001b[32m\"Euthymides#11#Turin 4123#Psykter#Vulci#A. Wrestlers (Theseus and Klytos)#413393\"\u001b[39m,\n",
              "  \u001b[32m\"Euthymides#12#Bonn 70#Hydriai#Nola#Unavliable#432981\"\u001b[39m,\n",
              "  \u001b[32m\"Euthymides#13#Frankfort, Mus.V.F#Hydriai#Unknown#Women at fountain, and satyr(two naked women at a laver, a satyr lying on the ground touching one of them; a woman filling her hydria at the lion-head spout)#NA\"\u001b[39m,\n",
              "  \u001b[32m\"Euthymides#14#Vatican G. 71#Hydriai#Vulci#Unavliable#413393\"\u001b[39m,\n",
              "  \u001b[32m\"Euthymides#15#Leningrad 624#Hydriai#Unknown#Dionysos seated with satyr and maenad#Unknown\"\u001b[39m,\n",
              "  \u001b[32m\"Euthymides#16#Orvieto, Faina, 68#Hydriai#Orvieto#Dionysos seated and two satyrs#Unknown\"\u001b[39m,\n",
              "  \u001b[32m\"Euthymides#17#Athens, Agora, P 4683 and P 4744#cylindroid#Athens#Apollo with Artemis, Leto, and another#579885\"\u001b[39m,\n",
              "  \u001b[32m\"Euthymides#18#Adria Bc 64.10#plate#Adria#warrior#unknown\"\u001b[39m,\n",
              "  \u001b[32m\"Euthymides#19#Florence 7 B 2; Boston 10.203; London 1952. 12-2.7; Naples, Astarita 121#cup#unknown#outside, A, deities in Olympus, B or A and B, birth of Athena#unknown\"\u001b[39m,\n",
              "  \u001b[32m\"Euthymides#20#Athens Acr. 211#cup#Athens#gigantomachy#579885\"\u001b[39m,\n",
              "  \u001b[32m\"Manner of Euthymides#1#lost#hydria#unknown#naked woman at fountain#unknown\"\u001b[39m,\n",
              "  \u001b[32m\"Manner of Euthymides#2#Agrigento#rhyton#Agrigento#above, male reclining, with\u001b[39m..."
            ]
          },
          "metadata": {}
        }
      ],
      "execution_count": 3,
      "metadata": {
        "trusted": true
      }
    },
    {
      "cell_type": "code",
      "source": [
        "val data = lines.tail.map(ln => ln.split(\"#\").toVector)"
      ],
      "outputs": [
        {
          "output_type": "execute_result",
          "execution_count": 4,
          "data": {
            "text/plain": [
              "\u001b[36mdata\u001b[39m: \u001b[32mVector\u001b[39m[\u001b[32mVector\u001b[39m[\u001b[32mString\u001b[39m]] = \u001b[33mVector\u001b[39m(\n",
              "  \u001b[33mVector\u001b[39m(\n",
              "    \u001b[32m\"Euthymides\"\u001b[39m,\n",
              "    \u001b[32m\"1\"\u001b[39m,\n",
              "    \u001b[32m\"Munich 2307\"\u001b[39m,\n",
              "    \u001b[32m\"Amphroae(typeA)\"\u001b[39m,\n",
              "    \u001b[32m\"Vulci\"\u001b[39m,\n",
              "    \u001b[32m\"A. Hector arming B. komos\"\u001b[39m,\n",
              "    \u001b[32m\"413393\"\u001b[39m\n",
              "  ),\n",
              "  \u001b[33mVector\u001b[39m(\n",
              "    \u001b[32m\"Euthymides\"\u001b[39m,\n",
              "    \u001b[32m\"2\"\u001b[39m,\n",
              "    \u001b[32m\"Munich 2308\"\u001b[39m,\n",
              "    \u001b[32m\"Amphroae(typeA)\"\u001b[39m,\n",
              "    \u001b[32m\"Vulci\"\u001b[39m,\n",
              "    \u001b[32m\"A. Thorykion arming B. athletes and trainer\"\u001b[39m,\n",
              "    \u001b[32m\"413393\"\u001b[39m\n",
              "  ),\n",
              "  \u001b[33mVector\u001b[39m(\n",
              "    \u001b[32m\"Euthymides\"\u001b[39m,\n",
              "    \u001b[32m\"3\"\u001b[39m,\n",
              "    \u001b[32m\"Louvre G 44\"\u001b[39m,\n",
              "    \u001b[32m\"Amphroae(typeA)\"\u001b[39m,\n",
              "    \u001b[32m\"Vulci\"\u001b[39m,\n",
              "    \u001b[32m\"A. Warrior mounting chariot B. woman, youth and man\"\u001b[39m,\n",
              "    \u001b[32m\"413393\"\u001b[39m\n",
              "  ),\n",
              "  \u001b[33mVector\u001b[39m(\n",
              "    \u001b[32m\"Euthymides\"\u001b[39m,\n",
              "    \u001b[32m\"4\"\u001b[39m,\n",
              "    \u001b[32m\"Munich 2309\"\u001b[39m,\n",
              "    \u001b[32m\"Amphroae(typeA)\"\u001b[39m,\n",
              "    \u001b[32m\"Vulci\"\u001b[39m,\n",
              "    \u001b[32m\"Unavliable\"\u001b[39m,\n",
              "    \u001b[32m\"413393\"\u001b[39m\n",
              "  ),\n",
              "  \u001b[33mVector\u001b[39m(\n",
              "    \u001b[32m\"Euthymides\"\u001b[39m,\n",
              "..."
            ]
          },
          "metadata": {}
        }
      ],
      "execution_count": 4,
      "metadata": {
        "trusted": true
      }
    },
    {
      "cell_type": "code",
      "source": [
        "val ids = data.map(columns => columns(2))"
      ],
      "outputs": [
        {
          "output_type": "execute_result",
          "execution_count": 6,
          "data": {
            "text/plain": [
              "\u001b[36mids\u001b[39m: \u001b[32mVector\u001b[39m[\u001b[32mString\u001b[39m] = \u001b[33mVector\u001b[39m(\n",
              "  \u001b[32m\"Munich 2307\"\u001b[39m,\n",
              "  \u001b[32m\"Munich 2308\"\u001b[39m,\n",
              "  \u001b[32m\"Louvre G 44\"\u001b[39m,\n",
              "  \u001b[32m\"Munich 2309\"\u001b[39m,\n",
              "  \u001b[32m\"Paestum\"\u001b[39m,\n",
              "  \u001b[32m\"Syracuse 49305\"\u001b[39m,\n",
              "  \u001b[32m\"Lourve C 11072\"\u001b[39m,\n",
              "  \u001b[32m\"Warsaw 142332\"\u001b[39m,\n",
              "  \u001b[32m\"Lourve G 31\"\u001b[39m,\n",
              "  \u001b[32m\"Serra Orlando\"\u001b[39m,\n",
              "  \u001b[32m\"Turin 4123\"\u001b[39m,\n",
              "  \u001b[32m\"Bonn 70\"\u001b[39m,\n",
              "  \u001b[32m\"Frankfort, Mus.V.F\"\u001b[39m,\n",
              "  \u001b[32m\"Vatican G. 71\"\u001b[39m,\n",
              "  \u001b[32m\"Leningrad 624\"\u001b[39m,\n",
              "  \u001b[32m\"Orvieto, Faina, 68\"\u001b[39m,\n",
              "  \u001b[32m\"Athens, Agora, P 4683 and P 4744\"\u001b[39m,\n",
              "  \u001b[32m\"Adria Bc 64.10\"\u001b[39m,\n",
              "  \u001b[32m\"Florence 7 B 2; Boston 10.203; London 1952. 12-2.7; Naples, Astarita 121\"\u001b[39m,\n",
              "  \u001b[32m\"Athens Acr. 211\"\u001b[39m,\n",
              "  \u001b[32m\"lost\"\u001b[39m,\n",
              "  \u001b[32m\"Agrigento\"\u001b[39m,\n",
              "  \u001b[32m\"Boston 13.193\"\u001b[39m,\n",
              "  \u001b[32m\"Villa Giulia\"\u001b[39m\n",
              ")"
            ]
          },
          "metadata": {}
        }
      ],
      "execution_count": 6,
      "metadata": {
        "trusted": true
      }
    },
    {
      "cell_type": "code",
      "source": [
        "//println(\"Records: \" + ids.size)\n",
        "//println(\"Distinct IDs: \" + ids.distinct.size)\n",
        "if(ids.size == ids.distinct.size) {\n",
        "    println(\"All records uniquely identified.\")\n",
        "} else {\n",
        "    println(\"Duplicate identifiers in data set.\")\n",
        "}"
      ],
      "outputs": [
        {
          "output_type": "stream",
          "name": "stdout",
          "text": [
            "All records uniquely identified.\n"
          ]
        }
      ],
      "execution_count": 7,
      "metadata": {
        "trusted": true
      }
    },
    {
      "cell_type": "code",
      "source": [
        "val shape = data.map(columns => columns(3))"
      ],
      "outputs": [
        {
          "output_type": "execute_result",
          "execution_count": 8,
          "data": {
            "text/plain": [
              "\u001b[36mshape\u001b[39m: \u001b[32mVector\u001b[39m[\u001b[32mString\u001b[39m] = \u001b[33mVector\u001b[39m(\n",
              "  \u001b[32m\"Amphroae(typeA)\"\u001b[39m,\n",
              "  \u001b[32m\"Amphroae(typeA)\"\u001b[39m,\n",
              "  \u001b[32m\"Amphroae(typeA)\"\u001b[39m,\n",
              "  \u001b[32m\"Amphroae(typeA)\"\u001b[39m,\n",
              "  \u001b[32m\"Amphroae(typeA) fr.\"\u001b[39m,\n",
              "  \u001b[32m\"Neck-Amphroae frr.\"\u001b[39m,\n",
              "  \u001b[32m\"Neck-Amphroae\"\u001b[39m,\n",
              "  \u001b[32m\"Neck-Amphroae\"\u001b[39m,\n",
              "  \u001b[32m\"Pelike fr.\"\u001b[39m,\n",
              "  \u001b[32m\"Volute-krater\"\u001b[39m,\n",
              "  \u001b[32m\"Psykter\"\u001b[39m,\n",
              "  \u001b[32m\"Hydriai\"\u001b[39m,\n",
              "  \u001b[32m\"Hydriai\"\u001b[39m,\n",
              "  \u001b[32m\"Hydriai\"\u001b[39m,\n",
              "  \u001b[32m\"Hydriai\"\u001b[39m,\n",
              "  \u001b[32m\"Hydriai\"\u001b[39m,\n",
              "  \u001b[32m\"cylindroid\"\u001b[39m,\n",
              "  \u001b[32m\"plate\"\u001b[39m,\n",
              "  \u001b[32m\"cup\"\u001b[39m,\n",
              "  \u001b[32m\"cup\"\u001b[39m,\n",
              "  \u001b[32m\"hydria\"\u001b[39m,\n",
              "  \u001b[32m\"rhyton\"\u001b[39m,\n",
              "  \u001b[32m\"plate\"\u001b[39m,\n",
              "  \u001b[32m\"cup\"\u001b[39m\n",
              ")"
            ]
          },
          "metadata": {}
        }
      ],
      "execution_count": 8,
      "metadata": {
        "trusted": true
      }
    },
    {
      "cell_type": "code",
      "source": [
        "val shapeGrouped = shape.groupBy(shape => shape)"
      ],
      "outputs": [
        {
          "output_type": "execute_result",
          "execution_count": 9,
          "data": {
            "text/plain": [
              "\u001b[36mshapeGrouped\u001b[39m: \u001b[32mMap\u001b[39m[\u001b[32mString\u001b[39m, \u001b[32mVector\u001b[39m[\u001b[32mString\u001b[39m]] = \u001b[33mHashMap\u001b[39m(\n",
              "  \u001b[32m\"plate\"\u001b[39m -> \u001b[33mVector\u001b[39m(\u001b[32m\"plate\"\u001b[39m, \u001b[32m\"plate\"\u001b[39m),\n",
              "  \u001b[32m\"hydria\"\u001b[39m -> \u001b[33mVector\u001b[39m(\u001b[32m\"hydria\"\u001b[39m),\n",
              "  \u001b[32m\"Amphroae(typeA)\"\u001b[39m -> \u001b[33mVector\u001b[39m(\n",
              "    \u001b[32m\"Amphroae(typeA)\"\u001b[39m,\n",
              "    \u001b[32m\"Amphroae(typeA)\"\u001b[39m,\n",
              "    \u001b[32m\"Amphroae(typeA)\"\u001b[39m,\n",
              "    \u001b[32m\"Amphroae(typeA)\"\u001b[39m\n",
              "  ),\n",
              "  \u001b[32m\"cup\"\u001b[39m -> \u001b[33mVector\u001b[39m(\u001b[32m\"cup\"\u001b[39m, \u001b[32m\"cup\"\u001b[39m, \u001b[32m\"cup\"\u001b[39m),\n",
              "  \u001b[32m\"Amphroae(typeA) fr.\"\u001b[39m -> \u001b[33mVector\u001b[39m(\u001b[32m\"Amphroae(typeA) fr.\"\u001b[39m),\n",
              "  \u001b[32m\"Psykter\"\u001b[39m -> \u001b[33mVector\u001b[39m(\u001b[32m\"Psykter\"\u001b[39m),\n",
              "  \u001b[32m\"Pelike fr.\"\u001b[39m -> \u001b[33mVector\u001b[39m(\u001b[32m\"Pelike fr.\"\u001b[39m),\n",
              "  \u001b[32m\"Volute-krater\"\u001b[39m -> \u001b[33mVector\u001b[39m(\u001b[32m\"Volute-krater\"\u001b[39m),\n",
              "  \u001b[32m\"Hydriai\"\u001b[39m -> \u001b[33mVector\u001b[39m(\u001b[32m\"Hydriai\"\u001b[39m, \u001b[32m\"Hydriai\"\u001b[39m, \u001b[32m\"Hydriai\"\u001b[39m, \u001b[32m\"Hydriai\"\u001b[39m, \u001b[32m\"Hydriai\"\u001b[39m),\n",
              "  \u001b[32m\"cylindroid\"\u001b[39m -> \u001b[33mVector\u001b[39m(\u001b[32m\"cylindroid\"\u001b[39m),\n",
              "  \u001b[32m\"rhyton\"\u001b[39m -> \u001b[33mVector\u001b[39m(\u001b[32m\"rhyton\"\u001b[39m),\n",
              "  \u001b[32m\"Neck-Amphroae frr.\"\u001b[39m -> \u001b[33mVector\u001b[39m(\u001b[32m\"Neck-Amphroae frr.\"\u001b[39m),\n",
              "  \u001b[32m\"Neck-Amphroae\"\u001b[39m -> \u001b[33mVector\u001b[39m(\u001b[32m\"Neck-Amphroae\"\u001b[39m, \u001b[32m\"Neck-Amphroae\"\u001b[39m)\n",
              ")"
            ]
          },
          "metadata": {}
        }
      ],
      "execution_count": 9,
      "metadata": {
        "trusted": true
      }
    },
    {
      "cell_type": "code",
      "source": [
        "val shapeCounts = shapeGrouped.map{ case (d, v) => (d, v.size) }"
      ],
      "outputs": [
        {
          "output_type": "execute_result",
          "execution_count": 10,
          "data": {
            "text/plain": [
              "\u001b[36mshapeCounts\u001b[39m: \u001b[32mMap\u001b[39m[\u001b[32mString\u001b[39m, \u001b[32mInt\u001b[39m] = \u001b[33mHashMap\u001b[39m(\n",
              "  \u001b[32m\"plate\"\u001b[39m -> \u001b[32m2\u001b[39m,\n",
              "  \u001b[32m\"hydria\"\u001b[39m -> \u001b[32m1\u001b[39m,\n",
              "  \u001b[32m\"Amphroae(typeA)\"\u001b[39m -> \u001b[32m4\u001b[39m,\n",
              "  \u001b[32m\"cup\"\u001b[39m -> \u001b[32m3\u001b[39m,\n",
              "  \u001b[32m\"Amphroae(typeA) fr.\"\u001b[39m -> \u001b[32m1\u001b[39m,\n",
              "  \u001b[32m\"Psykter\"\u001b[39m -> \u001b[32m1\u001b[39m,\n",
              "  \u001b[32m\"Pelike fr.\"\u001b[39m -> \u001b[32m1\u001b[39m,\n",
              "  \u001b[32m\"Volute-krater\"\u001b[39m -> \u001b[32m1\u001b[39m,\n",
              "  \u001b[32m\"Hydriai\"\u001b[39m -> \u001b[32m5\u001b[39m,\n",
              "  \u001b[32m\"cylindroid\"\u001b[39m -> \u001b[32m1\u001b[39m,\n",
              "  \u001b[32m\"rhyton\"\u001b[39m -> \u001b[32m1\u001b[39m,\n",
              "  \u001b[32m\"Neck-Amphroae frr.\"\u001b[39m -> \u001b[32m1\u001b[39m,\n",
              "  \u001b[32m\"Neck-Amphroae\"\u001b[39m -> \u001b[32m2\u001b[39m\n",
              ")"
            ]
          },
          "metadata": {}
        }
      ],
      "execution_count": 10,
      "metadata": {
        "trusted": true
      }
    },
    {
      "cell_type": "code",
      "source": [
        "val painter = data.map(columns => columns(0))"
      ],
      "outputs": [
        {
          "output_type": "execute_result",
          "execution_count": 11,
          "data": {
            "text/plain": [
              "\u001b[36mpainter\u001b[39m: \u001b[32mVector\u001b[39m[\u001b[32mString\u001b[39m] = \u001b[33mVector\u001b[39m(\n",
              "  \u001b[32m\"Euthymides\"\u001b[39m,\n",
              "  \u001b[32m\"Euthymides\"\u001b[39m,\n",
              "  \u001b[32m\"Euthymides\"\u001b[39m,\n",
              "  \u001b[32m\"Euthymides\"\u001b[39m,\n",
              "  \u001b[32m\"Euthymides\"\u001b[39m,\n",
              "  \u001b[32m\"Euthymides\"\u001b[39m,\n",
              "  \u001b[32m\"Euthymides\"\u001b[39m,\n",
              "  \u001b[32m\"Euthymides\"\u001b[39m,\n",
              "  \u001b[32m\"Euthymides\"\u001b[39m,\n",
              "  \u001b[32m\"Euthymides\"\u001b[39m,\n",
              "  \u001b[32m\"Euthymides\"\u001b[39m,\n",
              "  \u001b[32m\"Euthymides\"\u001b[39m,\n",
              "  \u001b[32m\"Euthymides\"\u001b[39m,\n",
              "  \u001b[32m\"Euthymides\"\u001b[39m,\n",
              "  \u001b[32m\"Euthymides\"\u001b[39m,\n",
              "  \u001b[32m\"Euthymides\"\u001b[39m,\n",
              "  \u001b[32m\"Euthymides\"\u001b[39m,\n",
              "  \u001b[32m\"Euthymides\"\u001b[39m,\n",
              "  \u001b[32m\"Euthymides\"\u001b[39m,\n",
              "  \u001b[32m\"Euthymides\"\u001b[39m,\n",
              "  \u001b[32m\"Manner of Euthymides\"\u001b[39m,\n",
              "  \u001b[32m\"Manner of Euthymides\"\u001b[39m,\n",
              "  \u001b[32m\"Manner of Euthymides\"\u001b[39m,\n",
              "  \u001b[32m\"Manner of Euthymides\"\u001b[39m\n",
              ")"
            ]
          },
          "metadata": {}
        }
      ],
      "execution_count": 11,
      "metadata": {
        "trusted": true
      }
    },
    {
      "cell_type": "code",
      "source": [
        "val painterGrouped = painter.groupBy(painter => painter)"
      ],
      "outputs": [
        {
          "output_type": "execute_result",
          "execution_count": 12,
          "data": {
            "text/plain": [
              "\u001b[36mpainterGrouped\u001b[39m: \u001b[32mMap\u001b[39m[\u001b[32mString\u001b[39m, \u001b[32mVector\u001b[39m[\u001b[32mString\u001b[39m]] = \u001b[33mHashMap\u001b[39m(\n",
              "  \u001b[32m\"Manner of Euthymides\"\u001b[39m -> \u001b[33mVector\u001b[39m(\n",
              "    \u001b[32m\"Manner of Euthymides\"\u001b[39m,\n",
              "    \u001b[32m\"Manner of Euthymides\"\u001b[39m,\n",
              "    \u001b[32m\"Manner of Euthymides\"\u001b[39m,\n",
              "    \u001b[32m\"Manner of Euthymides\"\u001b[39m\n",
              "  ),\n",
              "  \u001b[32m\"Euthymides\"\u001b[39m -> \u001b[33mVector\u001b[39m(\n",
              "    \u001b[32m\"Euthymides\"\u001b[39m,\n",
              "    \u001b[32m\"Euthymides\"\u001b[39m,\n",
              "    \u001b[32m\"Euthymides\"\u001b[39m,\n",
              "    \u001b[32m\"Euthymides\"\u001b[39m,\n",
              "    \u001b[32m\"Euthymides\"\u001b[39m,\n",
              "    \u001b[32m\"Euthymides\"\u001b[39m,\n",
              "    \u001b[32m\"Euthymides\"\u001b[39m,\n",
              "    \u001b[32m\"Euthymides\"\u001b[39m,\n",
              "    \u001b[32m\"Euthymides\"\u001b[39m,\n",
              "    \u001b[32m\"Euthymides\"\u001b[39m,\n",
              "    \u001b[32m\"Euthymides\"\u001b[39m,\n",
              "    \u001b[32m\"Euthymides\"\u001b[39m,\n",
              "    \u001b[32m\"Euthymides\"\u001b[39m,\n",
              "    \u001b[32m\"Euthymides\"\u001b[39m,\n",
              "    \u001b[32m\"Euthymides\"\u001b[39m,\n",
              "    \u001b[32m\"Euthymides\"\u001b[39m,\n",
              "    \u001b[32m\"Euthymides\"\u001b[39m,\n",
              "    \u001b[32m\"Euthymides\"\u001b[39m,\n",
              "    \u001b[32m\"Euthymides\"\u001b[39m,\n",
              "    \u001b[32m\"Euthymides\"\u001b[39m\n",
              "  )\n",
              ")"
            ]
          },
          "metadata": {}
        }
      ],
      "execution_count": 12,
      "metadata": {
        "trusted": true
      }
    },
    {
      "cell_type": "code",
      "source": [
        "val painterCounts = painterGrouped.map{ case (d, v) => (d, v.size) }"
      ],
      "outputs": [
        {
          "output_type": "execute_result",
          "execution_count": 13,
          "data": {
            "text/plain": [
              "\u001b[36mpainterCounts\u001b[39m: \u001b[32mMap\u001b[39m[\u001b[32mString\u001b[39m, \u001b[32mInt\u001b[39m] = \u001b[33mHashMap\u001b[39m(\n",
              "  \u001b[32m\"Manner of Euthymides\"\u001b[39m -> \u001b[32m4\u001b[39m,\n",
              "  \u001b[32m\"Euthymides\"\u001b[39m -> \u001b[32m20\u001b[39m\n",
              ")"
            ]
          },
          "metadata": {}
        }
      ],
      "execution_count": 13,
      "metadata": {
        "trusted": true
      }
    },
    {
      "cell_type": "code",
      "source": [
        "val shapeHisto = shapeCounts.toVector.sortBy(frequency => frequency._2).reverse"
      ],
      "outputs": [
        {
          "output_type": "execute_result",
          "execution_count": 14,
          "data": {
            "text/plain": [
              "\u001b[36mshapeHisto\u001b[39m: \u001b[32mVector\u001b[39m[(\u001b[32mString\u001b[39m, \u001b[32mInt\u001b[39m)] = \u001b[33mVector\u001b[39m(\n",
              "  (\u001b[32m\"Hydriai\"\u001b[39m, \u001b[32m5\u001b[39m),\n",
              "  (\u001b[32m\"Amphroae(typeA)\"\u001b[39m, \u001b[32m4\u001b[39m),\n",
              "  (\u001b[32m\"cup\"\u001b[39m, \u001b[32m3\u001b[39m),\n",
              "  (\u001b[32m\"Neck-Amphroae\"\u001b[39m, \u001b[32m2\u001b[39m),\n",
              "  (\u001b[32m\"plate\"\u001b[39m, \u001b[32m2\u001b[39m),\n",
              "  (\u001b[32m\"Neck-Amphroae frr.\"\u001b[39m, \u001b[32m1\u001b[39m),\n",
              "  (\u001b[32m\"rhyton\"\u001b[39m, \u001b[32m1\u001b[39m),\n",
              "  (\u001b[32m\"cylindroid\"\u001b[39m, \u001b[32m1\u001b[39m),\n",
              "  (\u001b[32m\"Volute-krater\"\u001b[39m, \u001b[32m1\u001b[39m),\n",
              "  (\u001b[32m\"Pelike fr.\"\u001b[39m, \u001b[32m1\u001b[39m),\n",
              "  (\u001b[32m\"Psykter\"\u001b[39m, \u001b[32m1\u001b[39m),\n",
              "  (\u001b[32m\"Amphroae(typeA) fr.\"\u001b[39m, \u001b[32m1\u001b[39m),\n",
              "  (\u001b[32m\"hydria\"\u001b[39m, \u001b[32m1\u001b[39m)\n",
              ")"
            ]
          },
          "metadata": {}
        }
      ],
      "execution_count": 14,
      "metadata": {
        "trusted": true
      }
    },
    {
      "cell_type": "code",
      "source": [
        "val findSpot = data.map(columns => columns(4))"
      ],
      "outputs": [
        {
          "output_type": "execute_result",
          "execution_count": 15,
          "data": {
            "text/plain": [
              "\u001b[36mfindSpot\u001b[39m: \u001b[32mVector\u001b[39m[\u001b[32mString\u001b[39m] = \u001b[33mVector\u001b[39m(\n",
              "  \u001b[32m\"Vulci\"\u001b[39m,\n",
              "  \u001b[32m\"Vulci\"\u001b[39m,\n",
              "  \u001b[32m\"Vulci\"\u001b[39m,\n",
              "  \u001b[32m\"Vulci\"\u001b[39m,\n",
              "  \u001b[32m\"Paestum\"\u001b[39m,\n",
              "  \u001b[32m\"Monte Casale\"\u001b[39m,\n",
              "  \u001b[32m\"unknown\"\u001b[39m,\n",
              "  \u001b[32m\"Unknown\"\u001b[39m,\n",
              "  \u001b[32m\"Unknown\"\u001b[39m,\n",
              "  \u001b[32m\"Serra Orlando\"\u001b[39m,\n",
              "  \u001b[32m\"Vulci\"\u001b[39m,\n",
              "  \u001b[32m\"Nola\"\u001b[39m,\n",
              "  \u001b[32m\"Unknown\"\u001b[39m,\n",
              "  \u001b[32m\"Vulci\"\u001b[39m,\n",
              "  \u001b[32m\"Unknown\"\u001b[39m,\n",
              "  \u001b[32m\"Orvieto\"\u001b[39m,\n",
              "  \u001b[32m\"Athens\"\u001b[39m,\n",
              "  \u001b[32m\"Adria\"\u001b[39m,\n",
              "  \u001b[32m\"unknown\"\u001b[39m,\n",
              "  \u001b[32m\"Athens\"\u001b[39m,\n",
              "  \u001b[32m\"unknown\"\u001b[39m,\n",
              "  \u001b[32m\"Agrigento\"\u001b[39m,\n",
              "  \u001b[32m\"Cumae\"\u001b[39m,\n",
              "  \u001b[32m\"unknown\"\u001b[39m\n",
              ")"
            ]
          },
          "metadata": {}
        }
      ],
      "execution_count": 15,
      "metadata": {
        "trusted": true
      }
    },
    {
      "cell_type": "code",
      "source": [
        "val findSpotGrouped = findSpot.groupBy(spot => spot)"
      ],
      "outputs": [
        {
          "output_type": "execute_result",
          "execution_count": 16,
          "data": {
            "text/plain": [
              "\u001b[36mfindSpotGrouped\u001b[39m: \u001b[32mMap\u001b[39m[\u001b[32mString\u001b[39m, \u001b[32mVector\u001b[39m[\u001b[32mString\u001b[39m]] = \u001b[33mHashMap\u001b[39m(\n",
              "  \u001b[32m\"Athens\"\u001b[39m -> \u001b[33mVector\u001b[39m(\u001b[32m\"Athens\"\u001b[39m, \u001b[32m\"Athens\"\u001b[39m),\n",
              "  \u001b[32m\"Serra Orlando\"\u001b[39m -> \u001b[33mVector\u001b[39m(\u001b[32m\"Serra Orlando\"\u001b[39m),\n",
              "  \u001b[32m\"unknown\"\u001b[39m -> \u001b[33mVector\u001b[39m(\u001b[32m\"unknown\"\u001b[39m, \u001b[32m\"unknown\"\u001b[39m, \u001b[32m\"unknown\"\u001b[39m, \u001b[32m\"unknown\"\u001b[39m),\n",
              "  \u001b[32m\"Orvieto\"\u001b[39m -> \u001b[33mVector\u001b[39m(\u001b[32m\"Orvieto\"\u001b[39m),\n",
              "  \u001b[32m\"Vulci\"\u001b[39m -> \u001b[33mVector\u001b[39m(\u001b[32m\"Vulci\"\u001b[39m, \u001b[32m\"Vulci\"\u001b[39m, \u001b[32m\"Vulci\"\u001b[39m, \u001b[32m\"Vulci\"\u001b[39m, \u001b[32m\"Vulci\"\u001b[39m, \u001b[32m\"Vulci\"\u001b[39m),\n",
              "  \u001b[32m\"Agrigento\"\u001b[39m -> \u001b[33mVector\u001b[39m(\u001b[32m\"Agrigento\"\u001b[39m),\n",
              "  \u001b[32m\"Adria\"\u001b[39m -> \u001b[33mVector\u001b[39m(\u001b[32m\"Adria\"\u001b[39m),\n",
              "  \u001b[32m\"Unknown\"\u001b[39m -> \u001b[33mVector\u001b[39m(\u001b[32m\"Unknown\"\u001b[39m, \u001b[32m\"Unknown\"\u001b[39m, \u001b[32m\"Unknown\"\u001b[39m, \u001b[32m\"Unknown\"\u001b[39m),\n",
              "  \u001b[32m\"Paestum\"\u001b[39m -> \u001b[33mVector\u001b[39m(\u001b[32m\"Paestum\"\u001b[39m),\n",
              "  \u001b[32m\"Cumae\"\u001b[39m -> \u001b[33mVector\u001b[39m(\u001b[32m\"Cumae\"\u001b[39m),\n",
              "  \u001b[32m\"Nola\"\u001b[39m -> \u001b[33mVector\u001b[39m(\u001b[32m\"Nola\"\u001b[39m),\n",
              "  \u001b[32m\"Monte Casale\"\u001b[39m -> \u001b[33mVector\u001b[39m(\u001b[32m\"Monte Casale\"\u001b[39m)\n",
              ")"
            ]
          },
          "metadata": {}
        }
      ],
      "execution_count": 16,
      "metadata": {
        "trusted": true
      }
    },
    {
      "cell_type": "code",
      "source": [
        "// Free puzzle:  notice that the result of this groupBy should be the same size as the numnber of distinct values in our list:\n",
        "if (findSpotGrouped.size == findSpot.distinct.size) {\n",
        "    println(\"Number of groups is same as number of distinct values.\")\n",
        "} else {\n",
        "    println(\"Something is terribly wrong.  The number of groups is not the same as the number of distinct values.\")\n",
        "}"
      ],
      "outputs": [
        {
          "output_type": "stream",
          "name": "stdout",
          "text": [
            "Number of groups is same as number of distinct values.\n"
          ]
        }
      ],
      "execution_count": 17,
      "metadata": {
        "trusted": true
      }
    }
  ],
  "metadata": {
    "kernelspec": {
      "name": "scala213",
      "display_name": "Scala (2.13)",
      "language": "scala"
    },
    "language_info": {
      "mimetype": "text/x-scala",
      "name": "scala",
      "codemirror_mode": "text/x-scala",
      "version": "2.13.1",
      "nbconvert_exporter": "script",
      "file_extension": ".scala"
    },
    "nteract": {
      "version": "0.22.0"
    }
  },
  "nbformat": 4,
  "nbformat_minor": 4
}